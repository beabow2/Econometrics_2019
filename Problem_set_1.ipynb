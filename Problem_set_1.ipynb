{
  "nbformat": 4,
  "nbformat_minor": 0,
  "metadata": {
    "colab": {
      "provenance": []
    },
    "kernelspec": {
      "name": "python3",
      "display_name": "Python 3"
    }
  },
  "cells": [
    {
      "cell_type": "code",
      "metadata": {
        "id": "l7SCFQ5tbupg",
        "colab": {
          "base_uri": "https://localhost:8080/",
          "height": 72
        },
        "outputId": "10a9884e-57e1-48a4-ad07-0d21d9ef3bd2"
      },
      "source": [
        "import pandas as pd\n",
        "import numpy as np\n",
        "import matplotlib.pyplot as plt\n",
        "import statsmodels.api as sm\n",
        "import statsmodels.formula.api as smf"
      ],
      "execution_count": null,
      "outputs": [
        {
          "output_type": "stream",
          "text": [
            "/usr/local/lib/python3.6/dist-packages/statsmodels/tools/_testing.py:19: FutureWarning: pandas.util.testing is deprecated. Use the functions in the public API at pandas.testing instead.\n",
            "  import pandas.util.testing as tm\n"
          ],
          "name": "stderr"
        }
      ]
    },
    {
      "cell_type": "markdown",
      "metadata": {
        "id": "gfUOPn04dL8n"
      },
      "source": [
        "##III. The Law of Large Number (LLN) and the Central Limit Theorem (CLT)\n",
        "1. Generate two sets of independent random samples, X and Y. X has 100 observations and Y has 10,000 observations. Both are from an i.i.d. \u001f$ \\chi^2(5) $ distribution. Report the means of X and Y. Which is closer to the theoretical mean of a \u001f\u001f$ \\chi^2(5) $ distribution?\n",
        "\n",
        "2. To demonstrate the Lindberg-Levy CLT, please generate 1000 sets of independent random samples, each has 1000 observations, from an i.i.d. $ \\chi^2(5) $ distribution. First choose one set of the random samples and plot a histogram. Do you see a \u001f$ \\chi^2(5) $ distribution? Denote the sample mean of each set of random samples as Z, and plot the histogram of Z. Do you see a normal distribution? What are the empirical mean and empirical variance of Z? Are they close to what CLT predicts?\n"
      ]
    },
    {
      "cell_type": "code",
      "metadata": {
        "id": "Ig4zY9Q1fJcU",
        "outputId": "6501b7d2-bc85-4fa3-f5e2-40bc39e6e316",
        "colab": {
          "base_uri": "https://localhost:8080/",
          "height": 52
        }
      },
      "source": [
        "# 1\n",
        "\n",
        "N = 100\n",
        "M = 10000\n",
        "\n",
        "x = np.random.chisquare(5, N)\n",
        "y = np.random.chisquare(5, M)\n",
        "\n",
        "mean_x = np.mean(x)\n",
        "mean_y = np.mean(y)\n",
        "\n",
        "print('mean X = %7f, mean Y = %7f' %(mean_x, mean_y))\n",
        "\n",
        "if np.absolute(mean_x - 5) > np.absolute(mean_y - 5):\n",
        "    print('Means of Y is closer to the theoretical mean of a chisquare(5) dist.')\n",
        "else:\n",
        "    print('Means of X is closer to the theoretical mean of a chisquare(5) dist.')"
      ],
      "execution_count": null,
      "outputs": [
        {
          "output_type": "stream",
          "text": [
            "mean X = 5.036084, mean Y = 4.985308\n",
            "Means of Y is closer to the theoretical mean of a chisquare(5) dist.\n"
          ],
          "name": "stdout"
        }
      ]
    },
    {
      "cell_type": "code",
      "metadata": {
        "id": "tNb23FePfM6_",
        "outputId": "f20b8232-038e-4a96-9720-46b4102ae7a5",
        "colab": {
          "base_uri": "https://localhost:8080/",
          "height": 182
        }
      },
      "source": [
        "# 2\n",
        "\n",
        "z = np.random.chisquare(5, (1000,1000)) # create a 1000 x 1000 matrix\n",
        "Z = []\n",
        "\n",
        "# use for loop to generate 1000 different sample mean\n",
        "for i in range(1, 1000, 1):\n",
        "    Z.append(np.mean(z[i]))\n",
        "\n",
        "# draw the histogram of z and the dist. of each sample's mean   \n",
        "fig = plt.figure()\n",
        "ax1 = fig.add_subplot(2, 2, 1)\n",
        "ax2 = fig.add_subplot(2, 2, 2)\n",
        "ax1.hist(z[0], bins = 20)\n",
        "ax2.hist(Z, bins = 20)\n",
        "\n",
        "print(f'The empirical mean is {str(np.mean(Z))}.')\n",
        "print(f'The empirical variance is {str(np.var(Z))}.')"
      ],
      "execution_count": null,
      "outputs": [
        {
          "output_type": "stream",
          "text": [
            "The empirical mean is 4.995817642580672.\n",
            "The empirical variance is 0.009785651017126378.\n"
          ],
          "name": "stdout"
        },
        {
          "output_type": "display_data",
          "data": {
            "image/png": "[encoded data removed]",
            "text/plain": [
              "<Figure size 432x288 with 2 Axes>"
            ]
          },
          "metadata": {
            "tags": [],
            "needs_background": "light"
          }
        }
      ]
    },
    {
      "cell_type": "markdown",
      "metadata": {
        "id": "tC9dNcLOf0-m"
      },
      "source": [
        "##IV. Use the OLS method to estimate a linear multiple regression model\n",
        "Consider a regression model $y_i = \\alpha + \\beta_1 x_{1i} + \\beta_2 x_{2i} + \\epsilon_\u000fi $. The Data Generating Process (DGP) is based on this regression model as well as the parameters designed as follows: $ x_{1i} \\sim N(2, 1) $, $x_{2i} \\sim\u0018 Poisson(4)$, \u000f$ \\epsilon_i \\sim\u0018 N(0, 1)$, $\\theta\u0012 = (\\alpha, \\beta_1, \\beta_2) = (1, 1, -2)$.\n",
        "1. Generate 100 independent random samples of (y, $x_1$, $x_2$) using the DGP as stated above.\n",
        "2. Calculate and report the estimate $\\hat{\\theta}$\u0012 and its covariance matrix using the OLS formula.\n",
        "3. Now change the distribution of $x_{1i}$ in DGP to N(2, 36). Repeat steps 1 and 2. Compare your results with step 2, What do you see in the variance of $\\hat{\\theta}$\u0012?\n",
        "4. Repeat step 1 and step 2 for 1000 times and record $\\hat{\\theta}$ for each repetition. Plot the (empirical) distributions of $\\hat{\\alpha}$, $\\hat{\\beta_1}$ and $\\hat{\\beta_2}$. Compare it with the limiting distributions of $\\hat{\\alpha}$, $\\hat{\\beta_1}$ and $\\hat{\\beta_2}$, what do you \n",
        "find?"
      ]
    },
    {
      "cell_type": "code",
      "metadata": {
        "id": "msLCUS0fgLfn"
      },
      "source": [
        "def ols_beta(x1, x2, y1):\n",
        "    one = np.ones(100)\n",
        "    X_T = np.matrix([one, x1, x2])\n",
        "    X = X_T.T\n",
        "    XTX = np.dot(X_T, X)\n",
        "    invXTX = XTX.I\n",
        "    beta = np.dot(np.dot(invXTX, X_T),y1)\n",
        "    return beta\n",
        "    \n",
        "def cov_beta(x1, x2, y1, sigma):\n",
        "    one = np.ones(100)\n",
        "    X_T = np.matrix([one, x1, x2])\n",
        "    X = X_T.T\n",
        "    XTX = np.dot(X_T, X)\n",
        "    invXTX = XTX.I\n",
        "    return sigma * invXTX"
      ],
      "execution_count": null,
      "outputs": []
    },
    {
      "cell_type": "code",
      "metadata": {
        "id": "QAFVn-2DgQOW",
        "outputId": "60a601aa-e4f6-4498-c00f-c075f7cf93b4",
        "colab": {
          "base_uri": "https://localhost:8080/",
          "height": 52
        }
      },
      "source": [
        "# 1\n",
        "\n",
        "# Run Simulation on \"True\" Model: y = a + b_1 * x_1 + b_2 * x_2 + e\n",
        "x1 = np.random.normal(2, 1, 100)\n",
        "x2 = np.random.poisson(4, 100)\n",
        "e = np.random.normal(0, 1, 100)\n",
        "one = np.ones(100)\n",
        "\n",
        "y1 = one + 1 * x1 - 2 * x2 + e\n",
        "print('The first 10 generated data is:', y1[:10])"
      ],
      "execution_count": null,
      "outputs": [
        {
          "output_type": "stream",
          "text": [
            "The first 10 generated data is: [ -3.43302777  -4.5865125   -6.29660734  -5.37245196 -12.16376465\n",
            "  -2.07027629  -6.7039128  -12.16836257 -11.2604375    3.04486024]\n"
          ],
          "name": "stdout"
        }
      ]
    },
    {
      "cell_type": "code",
      "metadata": {
        "id": "LoeBQxFBgYLm",
        "outputId": "bbd97a88-bf96-49f8-de4d-4008b9d5f551",
        "colab": {
          "base_uri": "https://localhost:8080/",
          "height": 87
        }
      },
      "source": [
        "# 2\n",
        "\n",
        "# Run OLS on simulated data\n",
        "print(ols_beta(x1, x2, y1))\n",
        "print(cov_beta(x1, x2, y1, 1))"
      ],
      "execution_count": null,
      "outputs": [
        {
          "output_type": "stream",
          "text": [
            "[[ 0.65463897  1.03810408 -1.96938344]]\n",
            "[[ 0.10314502 -0.02309288 -0.01137135]\n",
            " [-0.02309288  0.01096315  0.00045069]\n",
            " [-0.01137135  0.00045069  0.00245928]]\n"
          ],
          "name": "stdout"
        }
      ]
    },
    {
      "cell_type": "code",
      "metadata": {
        "id": "6936Cp6lge0q",
        "outputId": "bab1d899-fa14-46d1-bde5-0db1728e2f33",
        "colab": {
          "base_uri": "https://localhost:8080/",
          "height": 87
        }
      },
      "source": [
        "# 3\n",
        "\n",
        "# Run again on x1i~N(2,36)\n",
        "x11 = np.random.normal(2,36,100)\n",
        "y2 = one + x11 - 2 * x2 + e\n",
        "print(ols_beta(x1, x2, y2))\n",
        "print(cov_beta(x11, x2, y2, 1))\n",
        "\n",
        "BETAS = []"
      ],
      "execution_count": null,
      "outputs": [
        {
          "output_type": "stream",
          "text": [
            "[[27.1209015  -5.49830225 -3.3719422 ]]\n",
            "[[ 5.60360224e-02 -1.03622241e-04 -1.05437577e-02]\n",
            " [-1.03622241e-04  6.99945622e-06  8.22407148e-06]\n",
            " [-1.05437577e-02  8.22407148e-06  2.45041372e-03]]\n"
          ],
          "name": "stdout"
        }
      ]
    },
    {
      "cell_type": "code",
      "metadata": {
        "id": "bo-0Y-lFgyEt",
        "outputId": "c4c3fe49-12a3-46fe-a648-47526bba82ff",
        "colab": {
          "base_uri": "https://localhost:8080/",
          "height": 319
        }
      },
      "source": [
        "# 4\n",
        "\n",
        "# repeat 1000 times for 1 & 2\n",
        "for i in range(0, 1000):\n",
        "  x_1i = np.random.normal(2,1,100)\n",
        "  x_2i = np.random.poisson(4, 100)\n",
        "  Ei = np.random.normal(0,1,100)\n",
        "  Yi = 1 + x_1i - 2 * x_2i + Ei\n",
        "  BETAS.append(ols_beta(x_1i,x_2i, Yi))\n",
        "  \n",
        "A = [BETAS[i][0, 0] for i in range(0,1000)]\n",
        "Theta_1 = [BETAS[i][0, 1] for i in range(0,1000)]\n",
        "Theta_2 = [BETAS[i][0, 2] for i in range(0,1000)]\n",
        "\n",
        "plt.subplot(1,3,1)\n",
        "plt.hist(A, bins = 20)\n",
        "plt.subplot(1,3,2)\n",
        "plt.hist(Theta_1, bins = 20)\n",
        "plt.subplot(1,3,3)\n",
        "plt.hist(Theta_2, bins = 20)\n",
        "plt.subplots_adjust(left=0,right=1,bottom=0,wspace=0.25,hspace=0)\n",
        "\n",
        "print('Their plots look like normal distribution centered at their theoretical values.') "
      ],
      "execution_count": null,
      "outputs": [
        {
          "output_type": "stream",
          "text": [
            "Their plots look like normal distribution centered at their theoretical values.\n"
          ],
          "name": "stdout"
        },
        {
          "output_type": "display_data",
          "data": {
            "image/png": "[encoded data removed]",
            "text/plain": [
              "<Figure size 432x288 with 3 Axes>"
            ]
          },
          "metadata": {
            "tags": [],
            "needs_background": "light"
          }
        }
      ]
    },
    {
      "cell_type": "markdown",
      "metadata": {
        "id": "gi-f9o0_hKDQ"
      },
      "source": [
        "##V. Initiation of young adults' smoking\n",
        "Use the dataset \"smoke\" to perform a\n",
        "regression analysis. The dependent variable smoke dum equals to one if an individual is a smoker."
      ]
    },
    {
      "cell_type": "code",
      "metadata": {
        "id": "FlshEHVCh3J0",
        "outputId": "42160425-4b8b-4eba-9c4d-8de1dc5f262b",
        "colab": {
          "resources": {
            "http://localhost:8080/nbextensions/google.colab/files.js": {
              "data": "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",
              "ok": true,
              "headers": [
                [
                  "content-type",
                  "application/javascript"
                ]
              ],
              "status": 200,
              "status_text": ""
            }
          },
          "base_uri": "https://localhost:8080/",
          "height": 281
        }
      },
      "source": [
        "import io\n",
        "from google.colab import files\n",
        "uploaded = files.upload()\n",
        "\n",
        "# change the filename to match the uploaded file's\n",
        "smoke = pd.read_csv(io.BytesIO(uploaded['smoke.csv']))\n",
        "smoke.head()"
      ],
      "execution_count": null,
      "outputs": [
        {
          "output_type": "display_data",
          "data": {
            "text/html": [
              "\n",
              "     <input type=\"file\" id=\"files-421ec6a4-9298-4059-a8be-f1e4a0e4c05c\" name=\"files[]\" multiple disabled />\n",
              "     <output id=\"result-421ec6a4-9298-4059-a8be-f1e4a0e4c05c\">\n",
              "      Upload widget is only available when the cell has been executed in the\n",
              "      current browser session. Please rerun this cell to enable.\n",
              "      </output>\n",
              "      <script src=\"/nbextensions/google.colab/files.js\"></script> "
            ],
            "text/plain": [
              "<IPython.core.display.HTML object>"
            ]
          },
          "metadata": {
            "tags": []
          }
        },
        {
          "output_type": "stream",
          "text": [
            "Saving smoke.csv to smoke.csv\n"
          ],
          "name": "stdout"
        },
        {
          "output_type": "execute_result",
          "data": {
            "text/html": [
              "<div>\n",
              "<style scoped>\n",
              "    .dataframe tbody tr th:only-of-type {\n",
              "        vertical-align: middle;\n",
              "    }\n",
              "\n",
              "    .dataframe tbody tr th {\n",
              "        vertical-align: top;\n",
              "    }\n",
              "\n",
              "    .dataframe thead th {\n",
              "        text-align: right;\n",
              "    }\n",
              "</style>\n",
              "<table border=\"1\" class=\"dataframe\">\n",
              "  <thead>\n",
              "    <tr style=\"text-align: right;\">\n",
              "      <th></th>\n",
              "      <th>smoke_dum</th>\n",
              "      <th>neuroticism</th>\n",
              "      <th>conscientiousness</th>\n",
              "      <th>extraversion</th>\n",
              "      <th>smoke_parent</th>\n",
              "      <th>parent_control</th>\n",
              "      <th>maternal_care</th>\n",
              "      <th>taught</th>\n",
              "      <th>male</th>\n",
              "      <th>black</th>\n",
              "      <th>hisp</th>\n",
              "      <th>asian</th>\n",
              "      <th>race_other</th>\n",
              "      <th>prof</th>\n",
              "      <th>home</th>\n",
              "      <th>job_other</th>\n",
              "    </tr>\n",
              "  </thead>\n",
              "  <tbody>\n",
              "    <tr>\n",
              "      <th>0</th>\n",
              "      <td>0</td>\n",
              "      <td>-0.366439</td>\n",
              "      <td>-0.089068</td>\n",
              "      <td>0.122580</td>\n",
              "      <td>0</td>\n",
              "      <td>1.000000</td>\n",
              "      <td>4.0</td>\n",
              "      <td>1</td>\n",
              "      <td>0</td>\n",
              "      <td>1</td>\n",
              "      <td>0</td>\n",
              "      <td>0</td>\n",
              "      <td>0</td>\n",
              "      <td>1</td>\n",
              "      <td>0</td>\n",
              "      <td>0</td>\n",
              "    </tr>\n",
              "    <tr>\n",
              "      <th>1</th>\n",
              "      <td>0</td>\n",
              "      <td>0.854280</td>\n",
              "      <td>-0.831106</td>\n",
              "      <td>-0.196342</td>\n",
              "      <td>0</td>\n",
              "      <td>0.571429</td>\n",
              "      <td>3.5</td>\n",
              "      <td>0</td>\n",
              "      <td>0</td>\n",
              "      <td>0</td>\n",
              "      <td>0</td>\n",
              "      <td>0</td>\n",
              "      <td>0</td>\n",
              "      <td>0</td>\n",
              "      <td>1</td>\n",
              "      <td>0</td>\n",
              "    </tr>\n",
              "    <tr>\n",
              "      <th>2</th>\n",
              "      <td>0</td>\n",
              "      <td>-0.664958</td>\n",
              "      <td>-2.451764</td>\n",
              "      <td>-0.196342</td>\n",
              "      <td>1</td>\n",
              "      <td>0.714286</td>\n",
              "      <td>2.5</td>\n",
              "      <td>0</td>\n",
              "      <td>0</td>\n",
              "      <td>0</td>\n",
              "      <td>0</td>\n",
              "      <td>0</td>\n",
              "      <td>0</td>\n",
              "      <td>0</td>\n",
              "      <td>0</td>\n",
              "      <td>0</td>\n",
              "    </tr>\n",
              "    <tr>\n",
              "      <th>3</th>\n",
              "      <td>0</td>\n",
              "      <td>0.854280</td>\n",
              "      <td>1.565015</td>\n",
              "      <td>0.076363</td>\n",
              "      <td>1</td>\n",
              "      <td>0.571429</td>\n",
              "      <td>4.5</td>\n",
              "      <td>1</td>\n",
              "      <td>1</td>\n",
              "      <td>0</td>\n",
              "      <td>0</td>\n",
              "      <td>0</td>\n",
              "      <td>0</td>\n",
              "      <td>0</td>\n",
              "      <td>1</td>\n",
              "      <td>0</td>\n",
              "    </tr>\n",
              "    <tr>\n",
              "      <th>4</th>\n",
              "      <td>0</td>\n",
              "      <td>0.372878</td>\n",
              "      <td>0.226089</td>\n",
              "      <td>0.076363</td>\n",
              "      <td>1</td>\n",
              "      <td>0.571429</td>\n",
              "      <td>5.0</td>\n",
              "      <td>0</td>\n",
              "      <td>0</td>\n",
              "      <td>0</td>\n",
              "      <td>0</td>\n",
              "      <td>1</td>\n",
              "      <td>0</td>\n",
              "      <td>0</td>\n",
              "      <td>1</td>\n",
              "      <td>0</td>\n",
              "    </tr>\n",
              "  </tbody>\n",
              "</table>\n",
              "</div>"
            ],
            "text/plain": [
              "   smoke_dum  neuroticism  conscientiousness  ...  prof  home  job_other\n",
              "0          0    -0.366439          -0.089068  ...     1     0          0\n",
              "1          0     0.854280          -0.831106  ...     0     1          0\n",
              "2          0    -0.664958          -2.451764  ...     0     0          0\n",
              "3          0     0.854280           1.565015  ...     0     1          0\n",
              "4          0     0.372878           0.226089  ...     0     1          0\n",
              "\n",
              "[5 rows x 16 columns]"
            ]
          },
          "metadata": {
            "tags": []
          },
          "execution_count": 9
        }
      ]
    },
    {
      "cell_type": "code",
      "metadata": {
        "id": "DfYefOy5g-Yx",
        "outputId": "f0365d58-cbe1-4fb5-d824-00c70b49a8fd",
        "colab": {
          "base_uri": "https://localhost:8080/",
          "height": 555
        }
      },
      "source": [
        "# State the dependent and independent variables\n",
        "X1 = sm.add_constant(smoke[['smoke_parent', 'neuroticism', 'male', 'black']])\n",
        "y3 = smoke['smoke_dum']\n",
        "\n",
        "# Conduct OLS\n",
        "model = sm.OLS(y3, X1)\n",
        "result = model.fit()\n",
        "\n",
        "# Show result\n",
        "print('The OLS result is: \\n smoke_dum = %7.4f + %7.4f * smoke_parent + %7.4f * neuroticism + %7.4f * male + %7.4f * black \\n' \\\n",
        "      % (result.params[0], result.params[1], result.params[2], result.params[3], result.params[4] ) )\n",
        "\n",
        "result.summary2()\n",
        "print(result.summary())"
      ],
      "execution_count": null,
      "outputs": [
        {
          "output_type": "stream",
          "text": [
            "The OLS result is: \n",
            " smoke_dum =  0.1836 +  0.0927 * smoke_parent + -0.0587 * neuroticism +  0.0137 * male + -0.1067 * black \n",
            "\n",
            "                            OLS Regression Results                            \n",
            "==============================================================================\n",
            "Dep. Variable:              smoke_dum   R-squared:                       0.038\n",
            "Model:                            OLS   Adj. R-squared:                  0.038\n",
            "Method:                 Least Squares   F-statistic:                     96.13\n",
            "Date:                Thu, 07 May 2020   Prob (F-statistic):           2.42e-80\n",
            "Time:                        09:56:57   Log-Likelihood:                -5110.4\n",
            "No. Observations:                9728   AIC:                         1.023e+04\n",
            "Df Residuals:                    9723   BIC:                         1.027e+04\n",
            "Df Model:                           4                                         \n",
            "Covariance Type:            nonrobust                                         \n",
            "================================================================================\n",
            "                   coef    std err          t      P>|t|      [0.025      0.975]\n",
            "--------------------------------------------------------------------------------\n",
            "const            0.1836      0.008     21.637      0.000       0.167       0.200\n",
            "smoke_parent     0.0927      0.009     10.661      0.000       0.076       0.110\n",
            "neuroticism     -0.0587      0.006     -9.984      0.000      -0.070      -0.047\n",
            "male             0.0137      0.008      1.631      0.103      -0.003       0.030\n",
            "black           -0.1067      0.010    -10.677      0.000      -0.126      -0.087\n",
            "==============================================================================\n",
            "Omnibus:                     1610.299   Durbin-Watson:                   1.915\n",
            "Prob(Omnibus):                  0.000   Jarque-Bera (JB):             2525.890\n",
            "Skew:                           1.242   Prob(JB):                         0.00\n",
            "Kurtosis:                       2.746   Cond. No.                         3.93\n",
            "==============================================================================\n",
            "\n",
            "Warnings:\n",
            "[1] Standard Errors assume that the covariance matrix of the errors is correctly specified.\n"
          ],
          "name": "stdout"
        }
      ]
    },
    {
      "cell_type": "markdown",
      "metadata": {
        "id": "1YiZs93gjRmK"
      },
      "source": [
        "As we can see above, it is statistically significance that there is a positive relationship between smoking and having parents that smoke too.\n",
        "Also, it is statistically significance that the more neuroticism the subject is, the less the subject smokes. Last, a black person has higher chance to smoke."
      ]
    }
  ]
}